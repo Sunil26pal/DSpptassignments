{
  "nbformat": 4,
  "nbformat_minor": 0,
  "metadata": {
    "colab": {
      "provenance": []
    },
    "kernelspec": {
      "name": "python3",
      "display_name": "Python 3"
    },
    "language_info": {
      "name": "python"
    }
  },
  "cells": [
    {
      "cell_type": "markdown",
      "source": [
        "1.  Write a Python program that uses the HiveQL language to create a table named \"Employees\" with columns for \"id,\" \"name,\" and \"salary.\"\n"
      ],
      "metadata": {
        "id": "2RY9rOkG4JT1"
      }
    },
    {
      "cell_type": "code",
      "source": [
        "from pyhive import hive\n",
        "\n",
        "# Connect to Hive server\n",
        "conn = hive.Connection(host='localhost', port=10000, username='your_username')\n",
        "\n",
        "# Create a cursor object\n",
        "cursor = conn.cursor()\n",
        "\n",
        "# Execute the HiveQL query to create the Employees table\n",
        "query = '''\n",
        "    CREATE TABLE Employees (\n",
        "        id INT,\n",
        "        name STRING,\n",
        "        salary FLOAT\n",
        "    )\n",
        "'''\n",
        "\n",
        "# Execute the query\n",
        "cursor.execute(query)\n",
        "\n",
        "# Close the connection and cursor\n",
        "cursor.close()\n",
        "conn.close()\n"
      ],
      "metadata": {
        "id": "E9z0Bx5F4NTc"
      },
      "execution_count": null,
      "outputs": []
    },
    {
      "cell_type": "markdown",
      "source": [
        "2.  Create a Python program that retrieves records from a Hive table named \"Customers\" where the age is greater than 30.\n",
        "\n"
      ],
      "metadata": {
        "id": "6L7x9_9T4MV7"
      }
    },
    {
      "cell_type": "code",
      "source": [
        "from pyhive import hive\n",
        "\n",
        "# Connect to Hive server\n",
        "conn = hive.Connection(host='localhost', port=10000, username='your_username')\n",
        "\n",
        "# Create a cursor object\n",
        "cursor = conn.cursor()\n",
        "\n",
        "# Execute the HiveQL query to retrieve records where age > 30\n",
        "query = '''\n",
        "    SELECT *\n",
        "    FROM Customers\n",
        "    WHERE age > 30\n",
        "'''\n",
        "\n",
        "# Execute the query\n",
        "cursor.execute(query)\n",
        "\n",
        "# Fetch all the records from the result set\n",
        "results = cursor.fetchall()\n",
        "\n",
        "# Print the retrieved records\n",
        "for row in results:\n",
        "    print(row)\n",
        "\n",
        "# Close the connection and cursor\n",
        "cursor.close()\n",
        "conn.close()\n"
      ],
      "metadata": {
        "id": "KkAinhc04MFn"
      },
      "execution_count": null,
      "outputs": []
    },
    {
      "cell_type": "markdown",
      "source": [
        "3.  Write a Python script that sorts records in descending order based on the \"timestamp\" column in a Hive table named \"Logs.\"\n"
      ],
      "metadata": {
        "id": "U4xNwdi44LvV"
      }
    },
    {
      "cell_type": "code",
      "source": [
        "from pyhive import hive\n",
        "\n",
        "# Connect to Hive server\n",
        "conn = hive.Connection(host='localhost', port=10000, username='your_username')\n",
        "\n",
        "# Create a cursor object\n",
        "cursor = conn.cursor()\n",
        "\n",
        "# Execute the HiveQL query to sort records in descending order based on timestamp\n",
        "query = '''\n",
        "    SELECT *\n",
        "    FROM Logs\n",
        "    ORDER BY timestamp DESC\n",
        "'''\n",
        "\n",
        "# Execute the query\n",
        "cursor.execute(query)\n",
        "\n",
        "# Fetch all the records from the result set\n",
        "results = cursor.fetchall()\n",
        "\n",
        "# Print the sorted records\n",
        "for row in results:\n",
        "    print(row)\n",
        "\n",
        "# Close the connection and cursor\n",
        "cursor.close()\n",
        "conn.close()\n"
      ],
      "metadata": {
        "id": "aTWHHDvV4Lc9"
      },
      "execution_count": null,
      "outputs": []
    },
    {
      "cell_type": "markdown",
      "source": [
        "4.  Write a Python program that connects to a Hive server using PyHive library and retrieves all records from a table named \"Products\".\n",
        "\n"
      ],
      "metadata": {
        "id": "sxTQ87h54LHm"
      }
    },
    {
      "cell_type": "code",
      "execution_count": null,
      "metadata": {
        "id": "x8U6WCiN3tcZ"
      },
      "outputs": [],
      "source": [
        "from pyhive import hive\n",
        "\n",
        "# Connect to Hive server\n",
        "conn = hive.Connection(host='localhost', port=10000, username='your_username')\n",
        "\n",
        "# Create a cursor object\n",
        "cursor = conn.cursor()\n",
        "\n",
        "# Execute the HiveQL query to retrieve all records from the Products table\n",
        "query = '''\n",
        "    SELECT *\n",
        "    FROM Products\n",
        "'''\n",
        "\n",
        "# Execute the query\n",
        "cursor.execute(query)\n",
        "\n",
        "# Fetch all the records from the result set\n",
        "results = cursor.fetchall()\n",
        "\n",
        "# Print the retrieved records\n",
        "for row in results:\n",
        "    print(row)\n",
        "\n",
        "# Close the connection and cursor\n",
        "cursor.close()\n",
        "conn.close()\n"
      ]
    },
    {
      "cell_type": "markdown",
      "source": [
        "5.  Write a Python script that calculates the average salary of employees from a Hive table named \"Employees\".\n"
      ],
      "metadata": {
        "id": "-531o6tQ4p3a"
      }
    },
    {
      "cell_type": "code",
      "source": [
        "from pyhive import hive\n",
        "\n",
        "# Connect to Hive server\n",
        "conn = hive.Connection(host='localhost', port=10000, username='your_username')\n",
        "\n",
        "# Create a cursor object\n",
        "cursor = conn.cursor()\n",
        "\n",
        "# Execute the HiveQL query to calculate the average salary of employees\n",
        "query = '''\n",
        "    SELECT AVG(salary) as average_salary\n",
        "    FROM Employees\n",
        "'''\n",
        "\n",
        "# Execute the query\n",
        "cursor.execute(query)\n",
        "\n",
        "# Fetch the result\n",
        "result = cursor.fetchone()\n",
        "\n",
        "# Extract the average salary from the result\n",
        "average_salary = result[0]\n",
        "\n",
        "# Print the average salary\n",
        "print(\"Average Salary: \", average_salary)\n",
        "\n",
        "# Close the connection and cursor\n",
        "cursor.close()\n",
        "conn.close()\n"
      ],
      "metadata": {
        "id": "o2sOec1j4poy"
      },
      "execution_count": null,
      "outputs": []
    },
    {
      "cell_type": "markdown",
      "source": [
        "6.  Implement a Python program that uses Hive partitioning to create a partitioned table named \"Sales_Data\" based on the \"year\" and \"month\" columns.\n"
      ],
      "metadata": {
        "id": "6RdlQtaW4pXO"
      }
    },
    {
      "cell_type": "code",
      "source": [
        "from pyhive import hive\n",
        "\n",
        "# Connect to Hive server\n",
        "conn = hive.Connection(host='localhost', port=10000, username='your_username')\n",
        "\n",
        "# Create a cursor object\n",
        "cursor = conn.cursor()\n",
        "\n",
        "# Execute the HiveQL query to create a partitioned table named Sales_Data\n",
        "query = '''\n",
        "    CREATE TABLE Sales_Data (\n",
        "        sale_id INT,\n",
        "        sale_date STRING,\n",
        "        sale_amount FLOAT\n",
        "    )\n",
        "    PARTITIONED BY (year INT, month INT)\n",
        "'''\n",
        "\n",
        "# Execute the query\n",
        "cursor.execute(query)\n",
        "\n",
        "# Close the connection and cursor\n",
        "cursor.close()\n",
        "conn.close()\n"
      ],
      "metadata": {
        "id": "82jbmXu14o3r"
      },
      "execution_count": null,
      "outputs": []
    },
    {
      "cell_type": "markdown",
      "source": [
        "7.  Develop a Python script that adds a new column named \"email\" of type string to an existing Hive table named \"Employees.\"\n"
      ],
      "metadata": {
        "id": "HlrstdwN4om3"
      }
    },
    {
      "cell_type": "code",
      "source": [],
      "metadata": {
        "id": "0LyrubZ44oO1"
      },
      "execution_count": null,
      "outputs": []
    },
    {
      "cell_type": "markdown",
      "source": [
        "8.  Create a Python program that performs an inner join between two Hive tables, \"Orders\" and \"Customers,\" based on a common column.\n",
        "\n"
      ],
      "metadata": {
        "id": "pE1z4UzaLj2f"
      }
    },
    {
      "cell_type": "code",
      "source": [
        "from pyhive import hive\n",
        "\n",
        "# Connect to Hive server\n",
        "conn = hive.Connection(host='localhost', port=10000, username='your_username')\n",
        "\n",
        "# Create a cursor object\n",
        "cursor = conn.cursor()\n",
        "\n",
        "# Execute the HiveQL query to perform the inner join\n",
        "query = '''\n",
        "    SELECT *\n",
        "    FROM Orders\n",
        "    INNER JOIN Customers\n",
        "    ON Orders.customer_id = Customers.customer_id\n",
        "'''\n",
        "\n",
        "# Execute the query\n",
        "cursor.execute(query)\n",
        "\n",
        "# Fetch all the records from the result set\n",
        "results = cursor.fetchall()\n",
        "\n",
        "# Print the joined records\n",
        "for row in results:\n",
        "    print(row)\n",
        "\n",
        "# Close the connection and cursor\n",
        "cursor.close()\n",
        "conn.close()\n"
      ],
      "metadata": {
        "id": "mqfyqxECLqHf"
      },
      "execution_count": null,
      "outputs": []
    },
    {
      "cell_type": "markdown",
      "source": [
        "\n",
        "9.  Implement a Python program that uses the Hive SerDe library to process JSON data stored in a Hive table named \"User_Activity_Logs.\"\n",
        "\n",
        "\n"
      ],
      "metadata": {
        "id": "QgYdz0zI48z-"
      }
    },
    {
      "cell_type": "code",
      "source": [
        "from pyhive import hive\n",
        "\n",
        "# Connect to Hive server\n",
        "conn = hive.Connection(host='localhost', port=10000, username='your_username')\n",
        "\n",
        "# Create a cursor object\n",
        "cursor = conn.cursor()\n",
        "\n",
        "# Execute the HiveQL query to select and process JSON data from the User_Activity_Logs table\n",
        "query = '''\n",
        "    SELECT *\n",
        "    FROM User_Activity_Logs\n",
        "'''\n",
        "\n",
        "# Execute the query\n",
        "cursor.execute(query)\n",
        "\n",
        "# Fetch all the records from the result set\n",
        "results = cursor.fetchall()\n",
        "\n",
        "# Process the JSON data\n",
        "for row in results:\n",
        "    # Assuming the JSON data is stored in a column named \"activity_data\"\n",
        "    activity_data = row.activity_data\n",
        "\n",
        "    # Process the JSON data as needed\n",
        "    # Example: Print the activity_data\n",
        "    print(activity_data)\n",
        "\n",
        "# Close the connection and cursor\n",
        "cursor.close()\n",
        "conn.close()\n"
      ],
      "metadata": {
        "id": "pRlqpiu_MPEy"
      },
      "execution_count": null,
      "outputs": []
    }
  ]
}