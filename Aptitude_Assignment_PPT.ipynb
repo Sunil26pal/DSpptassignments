{
  "nbformat": 4,
  "nbformat_minor": 0,
  "metadata": {
    "colab": {
      "provenance": []
    },
    "kernelspec": {
      "name": "python3",
      "display_name": "Python 3"
    },
    "language_info": {
      "name": "python"
    }
  },
  "cells": [
    {
      "cell_type": "code",
      "execution_count": null,
      "metadata": {
        "id": "PEUrlw604U-7"
      },
      "outputs": [],
      "source": []
    },
    {
      "cell_type": "markdown",
      "source": [
        "### **DIVISIBILITY**\n",
        "\n",
        "\n",
        "\n",
        "1) Which one of the following numbers is divisible by 99? --- Ans.C\n",
        "a) 3572404 b) 135792 c) 913464 d) 114345\n",
        "\n",
        "2) If n is an integer, what is the remainder when (2n + 2)2\n",
        "is divided by 4?--- Ans.0\n",
        "\n",
        "3) Find two nearest numbers to 19506 which are divisible by 9?--- Ans.19503,19612\n",
        "\n",
        "4) What is the value of M and N respectively if M39048458N is\n",
        "divisible by 8 and 11, where M and N are single digit integers?--- Ans.M=3,N=6\n",
        "\n",
        "5) How many pairs of X and Y are possible in the number\n",
        "763X4Y2, if the number is divisible by 9?--- Ans.9\n",
        "\n",
        "6) When the integer n is divided by 8, the remainder is 3. What\n",
        "is the remainder if 6n is divided by 8?--- Ans.2\n",
        "\n",
        "7) If the product 4864 x 9P2 is divisible by 12, then what is the\n",
        "value of P?--- Ans.8\n",
        "\n",
        "8) If the number 7X86038 is exactly divisible by 11, then the\n",
        "smallest whole number in place of X?--- Ans.3\n",
        "\n",
        "9) If an integer n is divisible by 3, 5 and 12, what is the next\n",
        "larger integer divisible by all these numbers?--- Ans.D\n",
        "a) n\n",
        "b) n + 180 c) 2n d) n + 60\n",
        "\n",
        "10) What is the product of the largest and the smallest possible\n",
        "values of M for which a number 5M83M4M1 is divisible by 9?--- Ans.0"
      ],
      "metadata": {
        "id": "AyyEHDiV4XNH"
      }
    },
    {
      "cell_type": "markdown",
      "source": [
        "## # UNITS DIGITS\n",
        "\n",
        "\n",
        "Unit digits (Cyclicity)\n",
        "\n",
        "1) What is the unit digit in the product (365 x 659 x 771)?-----Ans.5\n",
        "\n",
        "2) Find unit digit of product (173)^45*(152)^77*(777)^999----Ans.8\n",
        "\n",
        "\n",
        "3) What is the unit's digit of the number 6^256–4^256?----Ans.0\n",
        "\n",
        "4) Find the unit's digit in 264^102+264^103----Ans.5\n",
        "\n",
        "5) What is the unit digit of (316)3n + 1?----Ans.7\n",
        "\n",
        "6) What is the unit digit in (7^95- 3^58)?----Ans.0\n",
        "\n",
        "7) What is the rightmost non-zero digit of the number 30^2720----Ans.0\n",
        "\n",
        "8) What will be the last digit of the number obtained by\n",
        "multiplying the numbers 81*82*83*84*86*87*88*89?----Ans.4\n",
        "\n",
        "9) Find the last three-digits of the product: 12345x54321----Ans.145\n",
        "\n",
        "10) Find the last digit of 15+25+35......95----Ans.5"
      ],
      "metadata": {
        "id": "07ZWZWye79fD"
      }
    },
    {
      "cell_type": "markdown",
      "source": [
        "**Factorials**\n",
        "\n",
        "1) What is the highest power of 21 that divides 20!?an.8\n",
        "\n",
        "2) What is the highest power of 32 that divides 31!?ans.0\n",
        "\n",
        "3) Find the largest number less than 28 which divides 28!?\n",
        "\n",
        "4) Find the number of zeroes at the end of 97!___ans.22\n",
        "\n",
        "5) What is the highest power of 12 that divides 54!?ans.16\n",
        "\n",
        "6) Find the least value of x such that 60!/2^x is an odd number.____ans.5\n",
        "\n",
        "7) Find the least value of ‘n’ if no factorial can have ‘n’ zeroes?-----Ans.2\n",
        "\n",
        "8) What is the highest power of 7! dividing 50! completely.-----Ans.7\n",
        "\n",
        "9) How many more trailing zeroes would 625! have than 624!?-----Ans.624\n",
        "\n",
        "10) Find the number of zeroes at the end of 1\n",
        "\n",
        "1×22×33.....×100100-----Ans.2"
      ],
      "metadata": {
        "id": "tumMPKhq79bi"
      }
    },
    {
      "cell_type": "markdown",
      "source": [
        "### **Factors**\n",
        "\n",
        "1) What is the number of prime factors in 4x86x108x1410x2212.------Ans 6\n",
        "\n",
        "\n",
        "2) N= a4xb3xc7\n",
        ". Find the number of perfect square factors of N\n",
        "where a,b,c are three distinct prime numbers.------Ans 24\n",
        "\n",
        "\n",
        "3) How many factors of 123x304x352 are even numbers?------Ans 12\n",
        "\n",
        "\n",
        "4) If N=27×34, M= 24×32×5, then find the number of factors of N\n",
        "that are common with the factors of M.------Ans 18\n",
        "\n",
        "\n",
        "5) N is the smallest number that has 5 factors. How many\n",
        "factors does (N - 1) have?------Ans 4\n",
        "\n",
        "\n",
        "6) If both 112 and 34 are factors of the number Ax4\n",
        "3x62x1311,then what is the smallest possible value of A?------Ans 270\n",
        "\n",
        "\n",
        "7) Find the total number of factors of 10!------Ans 73\n",
        "\n",
        "8) How many factors of 27x36x54x73 are even perfect squares?------Ans 12\n",
        "\n",
        "9) In how many ways can 480 be written as a product of two\n",
        "natural numbers?------Ans 1\n",
        "\n",
        "10) How many factors of 25x34x53 are not the factors of\n",
        "23x54x75------Ans 8"
      ],
      "metadata": {
        "id": "NJAGTZI879Y1"
      }
    },
    {
      "cell_type": "markdown",
      "source": [
        "### **remainders**\n",
        "\n",
        "\n",
        "1) What is the remainder when 725 is divided by 6?---Ans.5\n",
        "\n",
        "2) What is the remainder when 345 is divided by 8?---Ans.1\n",
        "\n",
        "3) Find the remainder when 496 is divided by 6.---Ans.4\n",
        "\n",
        "4) What is the remainder when 141516 is divided by 5?---Ans.1\n",
        "\n",
        "\n",
        "5) Find the remainder when 6799 is divided by 7.---Ans.6\n",
        "\n",
        "6) What is the remainder when 73x75x78x57x197x37 is divided\n",
        "by 34.---Ans.8\n",
        "\n",
        "7) Let N = 1421*1423*1425. What is the remainder when N is\n",
        "divided by 12?---Ans.1\n",
        "\n",
        "8) Find the remainder when 2256 is divided by 17.---Ans.0\n",
        "\n",
        "9) The remainder of 3997! /40 is:\n",
        "a) 39 b) 0 c) 1 d) None of these---Ans.0\n",
        "\n",
        "10) Find the remainder on dividing 1!+2!+3!.....+100! by 7?---Ans.3"
      ],
      "metadata": {
        "id": "Qz6AuAUY79WZ"
      }
    },
    {
      "cell_type": "markdown",
      "source": [
        "### **HCF/LCM**\n",
        "\n",
        "1) The greatest number of four digits which is divisible by 15,\n",
        "25, 40 and 75 is:\n",
        "a) 9000 b) 9400 c) 9600 d) 9800-----Ans.9600\n",
        "\n",
        "2) The H.C.F. of two numbers is 11 and their L.C.M. is 7700. If\n",
        "one of the numbers is 275, then the other is:\n",
        "a) 279 b) 283 c) 308 d) 318-----Ans.308\n",
        "\n",
        "3) Six bells commence tolling together and toll at intervals of 2,\n",
        "4, 6, 8 10 and 12 seconds respectively. In 30 minutes, how\n",
        "many times do they toll together including the toll at start?\n",
        "a) 4 b) 10 c) 15 d) 16-----Ans.15\n",
        "\n",
        "4) Let N be the greatest number that will divide 1305, 4665 and\n",
        "6905, leaving the same remainder in each case. Then sum of the digits N is\n",
        "a) 4 b) 5 c) 6 d) 8-----Ans.5\n",
        "\n",
        "5) Find the greatest number that will divide 43, 91 and 183 so\n",
        "as to leave the same remainder in each case.\n",
        "a) 4 b) 7 c) 9 d) 13-----Ans.1\n",
        "\n",
        "6) The product of two numbers is 4107. If the H.C.F. of these\n",
        "numbers is 37, then the greater number is:\n",
        "a) 101 b) 107 c) 111 d) 185-----Ans.111\n",
        "\n",
        "7) Three number are in the ratio of 3:4:5 and their L.C.M. is\n",
        "2400. Their H.C.F. is:\n",
        "a) 40 b) 80 c) 120 d) 200-----Ans.40\n",
        "\n",
        "8) The G.C.D. of 1.08, 0.36 and 0.9 is:\n",
        "a) 0.03 b) 0.9 c) 0.18 d) 0.108-----Ans.0.36\n",
        "\n",
        "9) The product of two numbers is 2028 and their H.C.F. is 13.\n",
        "The number of such pairs is:\n",
        "a) 1 b) 2 c) 3 d) 4-----Ans.1\n",
        "\n",
        "10) The least multiple of 7, which leaves a remainder of 4,\n",
        "when divided by 6, 9, 15 and 18 is:\n",
        "a) 74 b) 94 c) 184 d) 364-----Ans.94\n",
        "\n",
        "11) The least number which should be added to 2497 so that\n",
        "the sum is exactly divisible by 5, 6, 4 and 3 is:\n",
        "a) 3 b) 13 c) 23 d) 33-----Ans.none\n",
        "\n",
        "12) The least number which when divided by 5, 6 , 7 and 8\n",
        "leaves a remainder 3, but is divisible by 9, is:\n",
        "a) 1677 b) 1683 c) 2523 d) 3363-----Ans.none\n",
        "\n",
        "13) A, B and C start at the same time in the same direction to\n",
        "run around a circular stadium. A completes a round in 252\n",
        "seconds, B in 308 seconds and C in 198 seconds. After what\n",
        "time will they cross the same point from where they started?\n",
        "a) 26 m 18 s b) 42 m 36 s c) 45 m d) 46 m 12 s-----Ans.D\n",
        "\n",
        "14) The H.C.F. of two numbers is 23 and the other two factors\n",
        "of their L.C.M. are 13 and 14. The larger of the two numbers is:\n",
        "a) 276 b) 299 c) 322 d) 345-----Ans.322\n",
        "\n",
        "15) What will be the least number which when doubled will be\n",
        "exactly divisible by 12, 18, 21 and 30?\n",
        "a) 196 b) 630 c) 1260 d) 2520-----Ans.2520\n",
        "\n",
        "16) A rectangular courtyard 3.78 meters long 5.25 meters wide\n",
        "is to be paved with square tiles of exactly same size. What is\n",
        "the largest size of the tile which can be used for this purpose?\n",
        "a) 14 cms b) 21 cms c) 42 cms d) None of these-----Ans.none\n",
        "\n",
        "17) Three numbers which are co-prime to each other are such\n",
        "that the product of the first two is 551 and that of the last two\n",
        "is 1073. The sum of the three numbers is:\n",
        "a) 75 b) 81 c) 85 d) 89-----Ans.85\n",
        "\n",
        "18) The greatest number which on dividing 1657 and 2037\n",
        "leaves remainders 6 and 5 respectively is:\n",
        "a) 123 b) 127 c) 235 d) 305-----Ans.235\n",
        "\n",
        "19) The L.C.M. of two numbers is 48. The numbers are in the\n",
        "ratio 2:3. Then sum of the number is:\n",
        "a) 28 b) 32 c) 40 d) 64-----Ans.40\n",
        "\n",
        "20) The greatest possible length which can be used to measure\n",
        "exactly the lengths 7 m, 3 m 85 cm, 12 m 95 cm is:\n",
        "a) 15 cm b) 25 cm c) 35 cm d) 42 cm-----Ans.35cm\n",
        "\n",
        "21) L.C.M. of two prime numbers x and y (x>y) is 161. The value\n",
        "of 3y-x is :\n",
        "a) -2 b) -1 c) 1 d) 2-----Ans.-2\n",
        "\n",
        "22) The H.C.F and L.C.M of two numbers are 11 and 385\n",
        "respectively. If one number lies between 75 and 125, then that\n",
        "number is\n",
        "a) 77 b) 88 c) 99 d) 110-----Ans.88\n",
        "\n",
        "23) If the sum of two numbers is 55 and the H.C.F. and L.C.M.\n",
        "of these numbers are 5 and 120 respectively, then the sum of\n",
        "the reciprocals of the numbers is equal to:\n",
        "a) 55/601 b) 601/55 c) 11/120 d) 120/11-----Ans.601/55\n",
        "\n",
        "24) The maximum number of students among them 1001 pens\n",
        "and 910 pencils can be distributed in such a way that each\n",
        "student gets the same number of pens and same number of\n",
        "pencils is:\n",
        "a) 91 b) 910 c) 1001 d) 1911-----Ans.91"
      ],
      "metadata": {
        "id": "-ZI6875Q79Ts"
      }
    },
    {
      "cell_type": "markdown",
      "source": [
        "### **PROBLEM ON NUMBERS **\n",
        "\n",
        "1) A girl wrote all the numbers from 100 to 200. Then she\n",
        "started counting the number of one's that has been used while\n",
        "writing all these numbers. What is the number that she got?-----ANS 101\n",
        "\n",
        "2) If we write down all the numbers from 259 to 492 side by\n",
        "side like: 259260261....491492259260261....491492, how many\n",
        "8's will be used to write this large natural number?-----ANS 6084\n",
        "\n",
        "3) A number 3 divides ‘a’ with a result of ‘b’ and a remainder of-----ANS 7\n",
        "\n",
        "2. The number 3 divides ‘b’ with a result of 2 and a remainder\n",
        "of 1. What is the value of a?-----ANS 23\n",
        "\n",
        "4) When a number is divided by 5, the remainder is 2. When it\n",
        "is divided by 6, the remainder is 1. If the difference between\n",
        "the quotients of division is 3, then find the number.-----ANS 120\n",
        "\n",
        "5) The number formed by writing 1 to 29 side by side as:\n",
        "12345678910...... is divided by 9, then what is the remainder?-----Ans.0\n",
        "\n",
        "6) When 75% of a two-digit number is added to the number,\n",
        "the digits of the number are reversed. Find the ratio of the\n",
        "unit's digit to the ten's digit in the original number.-----Ans.1:4\n",
        "\n",
        "7) A two-digit number is such that the product of the digits is 8.\n",
        "When 18 is added to the number, then the digits are reversed.\n",
        "Find the number.-----Ans.24\n",
        "\n",
        "8) The product of 4 consecutive even numbers is always\n",
        "divisible by which of the largest number?-----Ans.24"
      ],
      "metadata": {
        "id": "E8FUDbJN79Q9"
      }
    },
    {
      "cell_type": "markdown",
      "source": [],
      "metadata": {
        "id": "gsw3S4Rz79OP"
      }
    },
    {
      "cell_type": "markdown",
      "source": [],
      "metadata": {
        "id": "ZnhKf1iL79Lc"
      }
    },
    {
      "cell_type": "markdown",
      "source": [],
      "metadata": {
        "id": "9FBnT4b279I-"
      }
    },
    {
      "cell_type": "markdown",
      "source": [],
      "metadata": {
        "id": "e6IDiTIG79Gd"
      }
    },
    {
      "cell_type": "markdown",
      "source": [],
      "metadata": {
        "id": "upv93-Gz79EY"
      }
    },
    {
      "cell_type": "markdown",
      "source": [],
      "metadata": {
        "id": "ITvMQP2379Ai"
      }
    },
    {
      "cell_type": "markdown",
      "source": [],
      "metadata": {
        "id": "g990_Q8j78-P"
      }
    },
    {
      "cell_type": "markdown",
      "source": [],
      "metadata": {
        "id": "1EzpgZYS788R"
      }
    },
    {
      "cell_type": "markdown",
      "source": [],
      "metadata": {
        "id": "wLIkz_-u786F"
      }
    },
    {
      "cell_type": "markdown",
      "source": [],
      "metadata": {
        "id": "Ibzeq8Pf784I"
      }
    },
    {
      "cell_type": "markdown",
      "source": [],
      "metadata": {
        "id": "1gMZKBmr781y"
      }
    },
    {
      "cell_type": "markdown",
      "source": [],
      "metadata": {
        "id": "qdzL3OHu78zJ"
      }
    },
    {
      "cell_type": "markdown",
      "source": [],
      "metadata": {
        "id": "qRegVBFW78wa"
      }
    },
    {
      "cell_type": "markdown",
      "source": [],
      "metadata": {
        "id": "Zyagz0S978t0"
      }
    },
    {
      "cell_type": "markdown",
      "source": [],
      "metadata": {
        "id": "kUBJq7KA78rR"
      }
    },
    {
      "cell_type": "markdown",
      "source": [],
      "metadata": {
        "id": "6ZqjnUmy78ol"
      }
    },
    {
      "cell_type": "markdown",
      "source": [],
      "metadata": {
        "id": "v1bwBZgd78mL"
      }
    },
    {
      "cell_type": "markdown",
      "source": [],
      "metadata": {
        "id": "BhmzIfmC78jf"
      }
    },
    {
      "cell_type": "markdown",
      "source": [],
      "metadata": {
        "id": "55r3AjF378g8"
      }
    },
    {
      "cell_type": "code",
      "source": [],
      "metadata": {
        "id": "PhwECANX7xhe"
      },
      "execution_count": null,
      "outputs": []
    }
  ]
}