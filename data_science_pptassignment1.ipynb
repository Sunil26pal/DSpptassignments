{
  "nbformat": 4,
  "nbformat_minor": 0,
  "metadata": {
    "colab": {
      "provenance": []
    },
    "kernelspec": {
      "name": "python3",
      "display_name": "Python 3"
    },
    "language_info": {
      "name": "python"
    }
  },
  "cells": [
    {
      "cell_type": "markdown",
      "source": [
        "\n",
        "1. Write a Python program to reverse a string without using any built-in string reversal functions.\n"
      ],
      "metadata": {
        "id": "54LTX1AxN8Eh"
      }
    },
    {
      "cell_type": "code",
      "execution_count": null,
      "metadata": {
        "id": "4-T_Va_0gXtp",
        "colab": {
          "base_uri": "https://localhost:8080/"
        },
        "outputId": "0329023c-d28c-4195-ff91-9e11f7c30c43"
      },
      "outputs": [
        {
          "output_type": "stream",
          "name": "stdout",
          "text": [
            "!linus ,olleH\n"
          ]
        }
      ],
      "source": [
        "def reverse_string_loop(string):\n",
        "    reversed_string = \"\"\n",
        "    index = len(string) - 1\n",
        "\n",
        "    while index >= 0:\n",
        "        reversed_string += string[index]\n",
        "        index -= 1\n",
        "\n",
        "    return reversed_string\n",
        "\n",
        "# Example usage\n",
        "input_string = \"Hello, sunil!\"\n",
        "reversed_string = reverse_string_loop(input_string)\n",
        "print(reversed_string)\n",
        "\n",
        "\n"
      ]
    },
    {
      "cell_type": "markdown",
      "source": [
        " 2.Implement a function to check if a given string is a palindrome.\n"
      ],
      "metadata": {
        "id": "SO86kGXd7zO7"
      }
    },
    {
      "cell_type": "code",
      "source": [
        "def is_palindrome(string):\n",
        "    # Remove any spaces and convert to lowercase for case-insensitive comparison\n",
        "    string = string.replace(\" \", \"\").lower()\n",
        "\n",
        "    # Compare the string with its reverse\n",
        "    return string == string[::-1]\n",
        "\n",
        "# Example usage\n",
        "input_string = \"lulul\"\n",
        "if is_palindrome(input_string):\n",
        "    print(\"The string is a palindrome.\")\n",
        "else:\n",
        "    print(\"The string is not a palindrome.\")\n"
      ],
      "metadata": {
        "colab": {
          "base_uri": "https://localhost:8080/"
        },
        "id": "X0py16HAqaok",
        "outputId": "3a16110c-3a09-4410-8054-2d85adb8acd4"
      },
      "execution_count": null,
      "outputs": [
        {
          "output_type": "stream",
          "name": "stdout",
          "text": [
            "The string is a palindrome.\n"
          ]
        }
      ]
    },
    {
      "cell_type": "markdown",
      "source": [
        "3. Write a program to find the largest element in a given list.\n"
      ],
      "metadata": {
        "id": "BTJBPjzG8vvK"
      }
    },
    {
      "cell_type": "code",
      "source": [
        "def find_largest_element(lst):\n",
        "    if len(lst) == 0:\n",
        "        return None\n",
        "\n",
        "    largest = lst[0]\n",
        "    for num in lst:\n",
        "        if num > largest:\n",
        "            largest = num\n",
        "\n",
        "    return largest\n",
        "\n",
        "# Example usage\n",
        "input_list = [12, 45, 78, 23, 56, 91]\n",
        "largest_element = find_largest_element(input_list)\n",
        "print(\"The largest element in the list is:\", largest_element)\n"
      ],
      "metadata": {
        "colab": {
          "base_uri": "https://localhost:8080/"
        },
        "id": "QpMaTA47N8w7",
        "outputId": "ad5e0e85-0fb8-42bd-888e-7474cd8835c2"
      },
      "execution_count": null,
      "outputs": [
        {
          "output_type": "stream",
          "name": "stdout",
          "text": [
            "The largest element in the list is: 91\n"
          ]
        }
      ]
    },
    {
      "cell_type": "markdown",
      "source": [
        "4. Implement a function to count the occurrence of each element in a list.\n"
      ],
      "metadata": {
        "id": "8VdeBkJH9y5-"
      }
    },
    {
      "cell_type": "code",
      "source": [
        "def count_occurrences(lst):\n",
        "    occurrences = {}\n",
        "\n",
        "    for element in lst:\n",
        "        if element in occurrences:\n",
        "            occurrences[element] += 1\n",
        "        else:\n",
        "            occurrences[element] = 1\n",
        "\n",
        "    return occurrences\n",
        "\n",
        "# Example usage\n",
        "input_list = [1, 2, 3, 2, 4, 1, 2, 4, 5]\n",
        "occurrences = count_occurrences(input_list)\n",
        "print(\"Element occurrences:\", occurrences)\n"
      ],
      "metadata": {
        "colab": {
          "base_uri": "https://localhost:8080/"
        },
        "id": "K5Tpy2R09u29",
        "outputId": "d02a70e4-e0cd-4e2d-a8cc-f91a35460f57"
      },
      "execution_count": null,
      "outputs": [
        {
          "output_type": "stream",
          "name": "stdout",
          "text": [
            "Element occurrences: {1: 2, 2: 3, 3: 1, 4: 2, 5: 1}\n"
          ]
        }
      ]
    },
    {
      "cell_type": "markdown",
      "source": [
        "5. Write a Python program to find the second largest number in a list.\n"
      ],
      "metadata": {
        "id": "4qXkJch--C4o"
      }
    },
    {
      "cell_type": "code",
      "source": [
        "def find_second_largest(lst):\n",
        "    if len(lst) < 2:\n",
        "        return None\n",
        "\n",
        "    largest = max(lst[0], lst[1])\n",
        "    second_largest = min(lst[0], lst[1])\n",
        "\n",
        "    for num in lst[2:]:\n",
        "        if num > largest:\n",
        "            second_largest = largest\n",
        "            largest = num\n",
        "        elif num > second_largest:\n",
        "            second_largest = num\n",
        "\n",
        "    return second_largest\n",
        "\n",
        "# Example usage\n",
        "input_list = [12, 45, 78, 23, 56, 91]\n",
        "second_largest = find_second_largest(input_list)\n",
        "\n",
        "if second_largest is not None:\n",
        "    print(\"The second largest number in the list is:\", second_largest)\n",
        "else:\n",
        "    print(\"There is no second largest number in the list.\")\n"
      ],
      "metadata": {
        "colab": {
          "base_uri": "https://localhost:8080/"
        },
        "id": "fC9YwqWD-A8N",
        "outputId": "7085dfdf-b2e0-40cf-ea66-7d1e90266aec"
      },
      "execution_count": null,
      "outputs": [
        {
          "output_type": "stream",
          "name": "stdout",
          "text": [
            "The second largest number in the list is: 78\n"
          ]
        }
      ]
    },
    {
      "cell_type": "markdown",
      "source": [
        "6. Implement a function to remove duplicate elements from a list.\n"
      ],
      "metadata": {
        "id": "FaQ0trFx-zsM"
      }
    },
    {
      "cell_type": "code",
      "source": [
        "def remove_duplicates(lst):\n",
        "    return list(set(lst))\n",
        "\n",
        "# Example usage\n",
        "input_list = [1, 2, 3, 2, 4, 1, 2, 4, 5]\n",
        "list_without_duplicates = remove_duplicates(input_list)\n",
        "print(\"List without duplicates:\", list_without_duplicates)\n"
      ],
      "metadata": {
        "colab": {
          "base_uri": "https://localhost:8080/"
        },
        "id": "_mA3iz---sfW",
        "outputId": "47e5ed1b-691a-4276-c7d6-28b637274ec1"
      },
      "execution_count": null,
      "outputs": [
        {
          "output_type": "stream",
          "name": "stdout",
          "text": [
            "List without duplicates: [1, 2, 3, 4, 5]\n"
          ]
        }
      ]
    },
    {
      "cell_type": "markdown",
      "source": [
        "7. Write a program to calculate the factorial of a given number."
      ],
      "metadata": {
        "id": "fJOrEsRE_20A"
      }
    },
    {
      "cell_type": "code",
      "source": [
        "def factorial(n):\n",
        "    if n < 0:\n",
        "        return None\n",
        "    elif n == 0 or n == 1:\n",
        "        return 1\n",
        "    else:\n",
        "        result = 1\n",
        "        for i in range(2, n + 1):\n",
        "            result *= i\n",
        "        return result\n",
        "\n",
        "# Example usage\n",
        "number = 5\n",
        "factorial_result = factorial(number)\n",
        "\n",
        "if factorial_result is not None:\n",
        "    print(\"The factorial of\", number, \"is:\", factorial_result)\n",
        "else:\n",
        "    print(\"Factorial is not defined for negative numbers.\")\n"
      ],
      "metadata": {
        "colab": {
          "base_uri": "https://localhost:8080/"
        },
        "id": "TxhWHRkU_kct",
        "outputId": "7403e249-9553-4302-ea9f-e3b4d25876dd"
      },
      "execution_count": null,
      "outputs": [
        {
          "output_type": "stream",
          "name": "stdout",
          "text": [
            "The factorial of 5 is: 120\n"
          ]
        }
      ]
    },
    {
      "cell_type": "markdown",
      "source": [
        "8. Implement a function to check if a given number is prime."
      ],
      "metadata": {
        "id": "xjyj6aUaAGAk"
      }
    },
    {
      "cell_type": "code",
      "source": [
        "def is_prime(number):\n",
        "    if number < 2:\n",
        "        return False\n",
        "\n",
        "    for i in range(2, int(number ** 0.5) + 1):\n",
        "        if number % i == 0:\n",
        "            return False\n",
        "\n",
        "    return True\n",
        "\n",
        "# Example usage\n",
        "input_number = 17\n",
        "if is_prime(input_number):\n",
        "    print(input_number, \"is a prime number.\")\n",
        "else:\n",
        "    print(input_number, \"is not a prime number.\")\n"
      ],
      "metadata": {
        "colab": {
          "base_uri": "https://localhost:8080/"
        },
        "id": "NnPe2nzb_9dD",
        "outputId": "998acf58-9799-4725-e6be-1786f56b041e"
      },
      "execution_count": null,
      "outputs": [
        {
          "output_type": "stream",
          "name": "stdout",
          "text": [
            "17 is a prime number.\n"
          ]
        }
      ]
    },
    {
      "cell_type": "markdown",
      "source": [
        "9. Write a Python program to sort a list of integers in ascending order.\n"
      ],
      "metadata": {
        "id": "OL5yPFkFA1YS"
      }
    },
    {
      "cell_type": "code",
      "source": [
        "def sort_list_ascending(lst):\n",
        "    sorted_list = sorted(lst)\n",
        "    return sorted_list\n",
        "\n",
        "# Example usage\n",
        "input_list = [5, 2, 9, 1, 7]\n",
        "sorted_list = sort_list_ascending(input_list)\n",
        "print(\"Sorted list in ascending order:\", sorted_list)\n",
        "\n",
        "\n"
      ],
      "metadata": {
        "colab": {
          "base_uri": "https://localhost:8080/"
        },
        "id": "VQLZfugaAw7I",
        "outputId": "98423c61-a010-4194-9220-9796f97c2e2c"
      },
      "execution_count": 2,
      "outputs": [
        {
          "output_type": "stream",
          "name": "stdout",
          "text": [
            "Sorted list in ascending order: [1, 2, 5, 7, 9]\n"
          ]
        }
      ]
    },
    {
      "cell_type": "markdown",
      "source": [
        "10. Implement a function to find the sum of all numbers in a list.\n"
      ],
      "metadata": {
        "id": "xUfkCSREo2Uo"
      }
    },
    {
      "cell_type": "code",
      "source": [
        "def find_sum(lst):\n",
        "    total = 0\n",
        "\n",
        "    for num in lst:\n",
        "        total += num\n",
        "\n",
        "    return total\n",
        " #example\n",
        "input_list=[1,2,4,5,8,9]\n",
        "total=find_sum(input_list)\n",
        "print(\"sum of the numbers is\",total)"
      ],
      "metadata": {
        "colab": {
          "base_uri": "https://localhost:8080/"
        },
        "id": "nRDnL7a_ocol",
        "outputId": "b94b2867-899d-4dfc-ef59-c45e49a2b881"
      },
      "execution_count": 5,
      "outputs": [
        {
          "output_type": "stream",
          "name": "stdout",
          "text": [
            "sum of the numbers is 29\n"
          ]
        }
      ]
    },
    {
      "cell_type": "markdown",
      "source": [
        "11. Write a program to find the common elements between two lists.\n"
      ],
      "metadata": {
        "id": "PV8onYAsrTck"
      }
    },
    {
      "cell_type": "code",
      "source": [
        "def find_common_elements(list1, list2):\n",
        "    common_elements = []\n",
        "    for element in list1:\n",
        "        if element in list2:\n",
        "            common_elements.append(element)\n",
        "    return common_elements\n",
        "\n",
        "# Example usage:\n",
        "list1 = [1, 2, 3, 4, 5]\n",
        "list2 = [4, 5, 6, 7, 8]\n",
        "common_elements = find_common_elements(list1, list2)\n",
        "print(common_elements)  # Output: [4, 5]\n"
      ],
      "metadata": {
        "colab": {
          "base_uri": "https://localhost:8080/"
        },
        "id": "M9kiExTvrqUd",
        "outputId": "183b33b5-93ef-4126-b252-cfa04dc23806"
      },
      "execution_count": 6,
      "outputs": [
        {
          "output_type": "stream",
          "name": "stdout",
          "text": [
            "[4, 5]\n"
          ]
        }
      ]
    },
    {
      "cell_type": "markdown",
      "source": [
        "12. Implement a function to check if a given string is an anagram of another string.\n"
      ],
      "metadata": {
        "id": "fEcUQ87wrj2E"
      }
    },
    {
      "cell_type": "code",
      "source": [
        "def is_anagram(str1, str2):\n",
        "    # Convert strings to lowercase and remove whitespace\n",
        "    str1 = str1.lower().replace(\" \", \"\")\n",
        "    str2 = str2.lower().replace(\" \", \"\")\n",
        "\n",
        "    # Check if the lengths of the strings are different\n",
        "    if len(str1) != len(str2):\n",
        "        return False\n",
        "\n",
        "    # Convert strings to lists and sort them\n",
        "    str1_list = sorted(list(str1))\n",
        "    str2_list = sorted(list(str2))\n",
        "\n",
        "    # Compare the sorted lists\n",
        "    if str1_list == str2_list:\n",
        "        return True\n",
        "    else:\n",
        "        return False\n",
        "\n",
        "# Example usage:\n",
        "string1 = \"listen\"\n",
        "string2 = \"silent\"\n",
        "result = is_anagram(string1, string2)\n",
        "print(result)  # Output: True\n"
      ],
      "metadata": {
        "colab": {
          "base_uri": "https://localhost:8080/"
        },
        "id": "f2X4AtYFpctX",
        "outputId": "dde35b39-d96e-4996-8631-a92308fe41d0"
      },
      "execution_count": 7,
      "outputs": [
        {
          "output_type": "stream",
          "name": "stdout",
          "text": [
            "True\n"
          ]
        }
      ]
    },
    {
      "cell_type": "markdown",
      "source": [
        "13. Write a Python program to generate all permutations of a given string."
      ],
      "metadata": {
        "id": "2JkufmICrs_V"
      }
    },
    {
      "cell_type": "code",
      "source": [
        "def generate_permutations(string):\n",
        "    # Base case: If the string has only one character, return it as a single-element list\n",
        "    if len(string) == 1:\n",
        "        return [string]\n",
        "\n",
        "    # Recursive case: Generate permutations for each character in the string\n",
        "    permutations = []\n",
        "    for i in range(len(string)):\n",
        "        # Choose the current character as the first character\n",
        "        first_char = string[i]\n",
        "\n",
        "        # Generate permutations for the remaining characters\n",
        "        remaining_chars = string[:i] + string[i+1:]\n",
        "        sub_permutations = generate_permutations(remaining_chars)\n",
        "\n",
        "        # Add the current character to each permutation of the remaining characters\n",
        "        for sub_permutation in sub_permutations:\n",
        "            permutations.append(first_char + sub_permutation)\n",
        "\n",
        "    return permutations\n",
        "\n",
        "# Example usage:\n",
        "input_string = \"abc\"\n",
        "permutations = generate_permutations(input_string)\n",
        "for permutation in permutations:\n",
        "    print(permutation)\n"
      ],
      "metadata": {
        "colab": {
          "base_uri": "https://localhost:8080/"
        },
        "id": "5eXtn53BrsRS",
        "outputId": "78587adb-a457-4467-b4b1-14e2ea8795b5"
      },
      "execution_count": 8,
      "outputs": [
        {
          "output_type": "stream",
          "name": "stdout",
          "text": [
            "abc\n",
            "acb\n",
            "bac\n",
            "bca\n",
            "cab\n",
            "cba\n"
          ]
        }
      ]
    },
    {
      "cell_type": "markdown",
      "source": [
        "14. Implement a function to calculate the Fibonacci sequence up to a given number of terms.\n"
      ],
      "metadata": {
        "id": "dWd2PYa8rrmm"
      }
    },
    {
      "cell_type": "code",
      "source": [
        "def fibonacci_sequence(n):\n",
        "    sequence = []\n",
        "\n",
        "    # Handle special cases for n = 0 and n = 1\n",
        "    if n >= 1:\n",
        "        sequence.append(0)\n",
        "    if n >= 2:\n",
        "        sequence.append(1)\n",
        "\n",
        "    # Generate Fibonacci sequence for n > 2\n",
        "    if n > 2:\n",
        "        for i in range(2, n):\n",
        "            next_term = sequence[i-1] + sequence[i-2]\n",
        "            sequence.append(next_term)\n",
        "\n",
        "    return sequence\n",
        "\n",
        "# Example usage:\n",
        "num_terms = 10\n",
        "fib_sequence = fibonacci_sequence(num_terms)\n",
        "print(fib_sequence)  # Output: [0, 1, 1, 2, 3, 5, 8, 13, 21, 34]\n"
      ],
      "metadata": {
        "colab": {
          "base_uri": "https://localhost:8080/"
        },
        "id": "RDwGHNWv3vqh",
        "outputId": "450c407c-dde2-42ba-98cc-75a48fd69e7c"
      },
      "execution_count": 9,
      "outputs": [
        {
          "output_type": "stream",
          "name": "stdout",
          "text": [
            "[0, 1, 1, 2, 3, 5, 8, 13, 21, 34]\n"
          ]
        }
      ]
    },
    {
      "cell_type": "markdown",
      "source": [
        "15. Write a program to find the median of a list of numbers.\n",
        "\n"
      ],
      "metadata": {
        "id": "ZEMZXxzw3wkb"
      }
    },
    {
      "cell_type": "code",
      "source": [
        "def find_median(numbers):\n",
        "    sorted_numbers = sorted(numbers)\n",
        "    n = len(sorted_numbers)\n",
        "\n",
        "    if n % 2 == 0:\n",
        "        # If the list has an even number of elements, take the average of the middle two elements\n",
        "        mid_index_1 = n // 2\n",
        "        mid_index_2 = mid_index_1 - 1\n",
        "        median = (sorted_numbers[mid_index_1] + sorted_numbers[mid_index_2]) / 2\n",
        "    else:\n",
        "        # If the list has an odd number of elements, take the middle element\n",
        "        mid_index = n // 2\n",
        "        median = sorted_numbers[mid_index]\n",
        "\n",
        "    return median\n",
        "\n",
        "# Example usage:\n",
        "my_list = [2, 4, 1, 6, 5, 3]\n",
        "median = find_median(my_list)\n",
        "print(median)  # Output: 3.5\n"
      ],
      "metadata": {
        "colab": {
          "base_uri": "https://localhost:8080/"
        },
        "id": "GhLiJR0X34W3",
        "outputId": "36cb720e-be1b-448d-9754-8b88b4721b1c"
      },
      "execution_count": 1,
      "outputs": [
        {
          "output_type": "stream",
          "name": "stdout",
          "text": [
            "3.5\n"
          ]
        }
      ]
    },
    {
      "cell_type": "markdown",
      "source": [
        "17.Implement a function to check if a given list is sorted in non-decreasing order.\n"
      ],
      "metadata": {
        "id": "UBQucF-n340y"
      }
    },
    {
      "cell_type": "code",
      "source": [
        "def is_sorted(numbers):\n",
        "    for i in range(len(numbers) - 1):\n",
        "        if numbers[i] > numbers[i + 1]:\n",
        "            return False\n",
        "    return True\n",
        "\n",
        "# Example usage:\n",
        "my_list = [1, 2, 3, 4, 5]\n",
        "result = is_sorted(my_list)\n",
        "print(result)  # Output: True\n"
      ],
      "metadata": {
        "colab": {
          "base_uri": "https://localhost:8080/"
        },
        "id": "_MUqFBn33-wD",
        "outputId": "c8e26fcc-4319-4f13-85be-17b1c5f77c17"
      },
      "execution_count": 2,
      "outputs": [
        {
          "output_type": "stream",
          "name": "stdout",
          "text": [
            "True\n"
          ]
        }
      ]
    },
    {
      "cell_type": "markdown",
      "source": [
        "18.Write a Python program to find the intersection of two lists."
      ],
      "metadata": {
        "id": "H-ATFS1e3_U-"
      }
    },
    {
      "cell_type": "code",
      "source": [
        "def find_intersection(list1, list2):\n",
        "    intersection = []\n",
        "    for element in list1:\n",
        "        if element in list2 and element not in intersection:\n",
        "            intersection.append(element)\n",
        "    return intersection\n",
        "\n",
        "# Example usage:\n",
        "list1 = [1, 2, 3, 4, 5]\n",
        "list2 = [4, 5, 6, 7, 8]\n",
        "intersection = find_intersection(list1, list2)\n",
        "print(intersection)  # Output: [4, 5]\n"
      ],
      "metadata": {
        "colab": {
          "base_uri": "https://localhost:8080/"
        },
        "id": "qDO8jMlw4Dv9",
        "outputId": "18ee003e-ed34-48dd-bb1b-a24dbe4e8177"
      },
      "execution_count": 3,
      "outputs": [
        {
          "output_type": "stream",
          "name": "stdout",
          "text": [
            "[4, 5]\n"
          ]
        }
      ]
    },
    {
      "cell_type": "markdown",
      "source": [
        "19.Implement a function to find the maximum subarray sum in a given list.\n"
      ],
      "metadata": {
        "id": "Daon0u_x4EIw"
      }
    },
    {
      "cell_type": "code",
      "source": [
        "def find_maximum_subarray_sum(numbers):\n",
        "    max_sum = float('-inf')  # Initialize with negative infinity\n",
        "    current_sum = 0\n",
        "\n",
        "    for num in numbers:\n",
        "        current_sum = max(num, current_sum + num)\n",
        "        max_sum = max(max_sum, current_sum)\n",
        "\n",
        "    return max_sum\n",
        "\n",
        "# Example usage:\n",
        "my_list = [-2, 1, -3, 4, -1, 2, 1, -5, 4]\n",
        "result = find_maximum_subarray_sum(my_list)\n",
        "print(result)  # Output: 6\n",
        "\n"
      ],
      "metadata": {
        "colab": {
          "base_uri": "https://localhost:8080/"
        },
        "id": "ngpn3ob44G1W",
        "outputId": "a08e65aa-0a2d-4823-9d52-54fccea8d9fa"
      },
      "execution_count": 4,
      "outputs": [
        {
          "output_type": "stream",
          "name": "stdout",
          "text": [
            "6\n"
          ]
        }
      ]
    },
    {
      "cell_type": "markdown",
      "source": [
        "20.Write a program to remove all vowels from a given string.\n",
        "\n"
      ],
      "metadata": {
        "id": "mD6zrj-L4HVw"
      }
    },
    {
      "cell_type": "code",
      "source": [
        "def remove_vowels(string):\n",
        "    vowels = \"aeiouAEIOU\"  # Define the vowels to be removed\n",
        "    without_vowels = \"\"\n",
        "\n",
        "    for char in string:\n",
        "        if char not in vowels:\n",
        "            without_vowels += char\n",
        "\n",
        "    return without_vowels\n",
        "\n",
        "# Example usage:\n",
        "input_string = \"Hello, World!\"\n",
        "result = remove_vowels(input_string)\n",
        "print(result)\n"
      ],
      "metadata": {
        "colab": {
          "base_uri": "https://localhost:8080/"
        },
        "id": "q6PTktYb4MPp",
        "outputId": "67ec2d9a-6581-41ef-eb12-a3bd1e150d5a"
      },
      "execution_count": 5,
      "outputs": [
        {
          "output_type": "stream",
          "name": "stdout",
          "text": [
            "Hll, Wrld!\n"
          ]
        }
      ]
    },
    {
      "cell_type": "markdown",
      "source": [
        "21. Write a Python program to check if two strings are anagrams of each other.\n",
        "26. Implement a function to find the mode of a list of numbers.\n",
        "27. Write a program to find the greatest common divisor (GCD) of two numbers.\n",
        "28. Implement a function to calculate the square root of a given number.\n",
        "29. Write a Python program to check if a given string is a valid palindrome ignoring non-alphanumeric characters.\n",
        "30. Implement a function to find the minimum element in a rotated sorted list.\n",
        "31. Write a program to find the sum of all even numbers in a list.\n",
        "32. Implement a function to calculate the power of a number using recursion.\n",
        "33. Write a Python program to remove duplicates from a list while preserving the order.\n",
        "34. Implement a function to find the longest common prefix among a list of strings.\n",
        "35. Write a program to check if a given number is a perfect square.\n",
        "36. Implement a function to calculate the product of all elements in a list.\n",
        "37. Write a Python program to reverse the order of words in a sentence while preserving the word order.\n",
        "38. Implement a function to find the missing number in a given list of consecutive numbers.\n",
        "39. Write a program to find the sum of digits of a given number.\n"
      ],
      "metadata": {
        "id": "bI8ic2uS4M4B"
      }
    },
    {
      "cell_type": "code",
      "source": [
        "## repeat question"
      ],
      "metadata": {
        "id": "o-iCPtqSfSPC"
      },
      "execution_count": null,
      "outputs": []
    },
    {
      "cell_type": "markdown",
      "source": [
        "22.Implement a function to find the first non-repeating character in a string.\n"
      ],
      "metadata": {
        "id": "00S2aZ7WfWe2"
      }
    },
    {
      "cell_type": "code",
      "source": [
        "def find_first_non_repeating_char(string):\n",
        "    char_count = {}\n",
        "\n",
        "    # Populate character counts\n",
        "    for char in string:\n",
        "        if char in char_count:\n",
        "            char_count[char] += 1\n",
        "        else:\n",
        "            char_count[char] = 1\n",
        "\n",
        "    # Find the first non-repeating character\n",
        "    for char in string:\n",
        "        if char_count[char] == 1:\n",
        "            return char\n",
        "\n",
        "    return None  # Return None if no non-repeating character is found\n",
        "\n",
        "# Example usage:\n",
        "input_string = \"abacddbec\"\n",
        "result = find_first_non_repeating_char(input_string)\n",
        "print(result)  # Output: 'e'\n"
      ],
      "metadata": {
        "colab": {
          "base_uri": "https://localhost:8080/"
        },
        "id": "-B82LBEDfWMu",
        "outputId": "6378b93a-bbb4-4170-99c6-2b41c50f3747"
      },
      "execution_count": 7,
      "outputs": [
        {
          "output_type": "stream",
          "name": "stdout",
          "text": [
            "e\n"
          ]
        }
      ]
    },
    {
      "cell_type": "markdown",
      "source": [
        "23.Write a program to find the prime factors of a given numbers."
      ],
      "metadata": {
        "id": "vYsRa227fV3G"
      }
    },
    {
      "cell_type": "code",
      "source": [
        "def find_prime_factors(n):\n",
        "    prime_factors = []\n",
        "    i = 2\n",
        "\n",
        "    while i * i <= n:\n",
        "        if n % i == 0:\n",
        "            prime_factors.append(i)\n",
        "            n //= i\n",
        "        else:\n",
        "            i += 1\n",
        "\n",
        "    if n > 1:\n",
        "        prime_factors.append(n)\n",
        "\n",
        "    return prime_factors\n",
        "\n",
        "# Example usage:\n",
        "number = 84\n",
        "factors = find_prime_factors(number)\n",
        "print(factors)  # Output:\n"
      ],
      "metadata": {
        "colab": {
          "base_uri": "https://localhost:8080/"
        },
        "id": "BPU1qhLHkvVD",
        "outputId": "32d49d8e-0958-40c4-f56c-04da1b3a9ad3"
      },
      "execution_count": 8,
      "outputs": [
        {
          "output_type": "stream",
          "name": "stdout",
          "text": [
            "[2, 2, 3, 7]\n"
          ]
        }
      ]
    },
    {
      "cell_type": "markdown",
      "source": [
        "24.Implement a function to check if a given number is a power of two."
      ],
      "metadata": {
        "id": "Af53zYasffBP"
      }
    },
    {
      "cell_type": "code",
      "source": [
        "def is_power_of_two(n):\n",
        "    if n <= 0:\n",
        "        return False\n",
        "\n",
        "    while n % 2 == 0:\n",
        "        n //= 2\n",
        "\n",
        "    return n == 1\n",
        "\n",
        "# Example usage:\n",
        "number = 16\n",
        "result = is_power_of_two(number)\n",
        "print(result)\n"
      ],
      "metadata": {
        "colab": {
          "base_uri": "https://localhost:8080/"
        },
        "id": "mu2j4WKTfewT",
        "outputId": "3dd491dd-6cf2-458f-a9a8-ac08a2550c2d"
      },
      "execution_count": 9,
      "outputs": [
        {
          "output_type": "stream",
          "name": "stdout",
          "text": [
            "True\n"
          ]
        }
      ]
    },
    {
      "cell_type": "markdown",
      "source": [
        "25.Write a Python program to merge two sorted lists into a single sorted list."
      ],
      "metadata": {
        "id": "XejNaonGfd_e"
      }
    },
    {
      "cell_type": "code",
      "source": [
        "def merge_sorted_lists(list1, list2):\n",
        "    merged_list = []\n",
        "    i = j = 0\n",
        "\n",
        "    while i < len(list1) and j < len(list2):\n",
        "        if list1[i] <= list2[j]:\n",
        "            merged_list.append(list1[i])\n",
        "            i += 1\n",
        "        else:\n",
        "            merged_list.append(list2[j])\n",
        "            j += 1\n",
        "\n",
        "    # Add any remaining elements from list1, if any\n",
        "    while i < len(list1):\n",
        "        merged_list.append(list1[i])\n",
        "        i += 1\n",
        "\n",
        "    # Add any remaining elements from list2, if any\n",
        "    while j < len(list2):\n",
        "        merged_list.append(list2[j])\n",
        "        j += 1\n",
        "\n",
        "    return merged_list\n",
        "\n",
        "# Example usage:\n",
        "list1 = [1, 3, 5, 7]\n",
        "list2 = [2, 4, 6, 8]\n",
        "merged = merge_sorted_lists(list1, list2)\n",
        "print(merged)\n"
      ],
      "metadata": {
        "colab": {
          "base_uri": "https://localhost:8080/"
        },
        "id": "kfbvTV4ffdvt",
        "outputId": "101c9ecb-af07-44f0-8099-be0bc8581c8f"
      },
      "execution_count": 10,
      "outputs": [
        {
          "output_type": "stream",
          "name": "stdout",
          "text": [
            "[1, 2, 3, 4, 5, 6, 7, 8]\n"
          ]
        }
      ]
    },
    {
      "cell_type": "markdown",
      "source": [
        "26. Implement a function to find the mode of a list of numbers."
      ],
      "metadata": {
        "id": "h3IWlvrBfdeL"
      }
    },
    {
      "cell_type": "code",
      "source": [
        "from collections import Counter\n",
        "\n",
        "def find_mode(numbers):\n",
        "    counter = Counter(numbers)\n",
        "    max_count = max(counter.values())\n",
        "    modes = [num for num, count in counter.items() if count == max_count]\n",
        "    return modes\n",
        "\n",
        "# Example usage:\n",
        "my_list = [1, 2, 2, 3, 3, 3, 4, 4, 4, 4]\n",
        "modes = find_mode(my_list)\n",
        "print(modes)\n"
      ],
      "metadata": {
        "colab": {
          "base_uri": "https://localhost:8080/"
        },
        "id": "H_ywiU_dfdN9",
        "outputId": "95221496-8085-40ea-b8e4-359345269919"
      },
      "execution_count": 12,
      "outputs": [
        {
          "output_type": "stream",
          "name": "stdout",
          "text": [
            "[4]\n"
          ]
        }
      ]
    },
    {
      "cell_type": "markdown",
      "source": [
        " 27.Write a program to find the greatest common divisor (GCD) of two numbers."
      ],
      "metadata": {
        "id": "PFkuMPCsfb3Y"
      }
    },
    {
      "cell_type": "code",
      "source": [
        "def find_gcd(a, b):\n",
        "    while b != 0:\n",
        "        a, b = b, a % b\n",
        "    return a\n",
        "\n",
        "# Example usage:\n",
        "num1 = 48\n",
        "num2 = 36\n",
        "gcd = find_gcd(num1, num2)\n",
        "print(gcd)\n"
      ],
      "metadata": {
        "colab": {
          "base_uri": "https://localhost:8080/"
        },
        "id": "D4qEMk93fcrh",
        "outputId": "2c10ec01-4450-4dbf-bb5f-3c7a833c59ec"
      },
      "execution_count": 13,
      "outputs": [
        {
          "output_type": "stream",
          "name": "stdout",
          "text": [
            "12\n"
          ]
        }
      ]
    },
    {
      "cell_type": "markdown",
      "source": [
        "28.Implement a function to calculate the square root of a given number."
      ],
      "metadata": {
        "id": "qddCysdPfcZq"
      }
    },
    {
      "cell_type": "code",
      "source": [
        "def calculate_square_root(number, epsilon=1e-6):\n",
        "    if number < 0:\n",
        "        raise ValueError(\"Square root is not defined for negative numbers.\")\n",
        "\n",
        "    if number == 0:\n",
        "        return 0\n",
        "\n",
        "    guess = number / 2\n",
        "    while abs(guess * guess - number) > epsilon:\n",
        "        guess = (guess + number / guess) / 2\n",
        "\n",
        "    return guess\n",
        "\n",
        "# Example usage:\n",
        "num = 25\n",
        "square_root = calculate_square_root(num)\n",
        "print(square_root)\n"
      ],
      "metadata": {
        "colab": {
          "base_uri": "https://localhost:8080/"
        },
        "id": "fJF8RvZsfcIp",
        "outputId": "718d0292-5158-4caf-a5ee-17cc0baaa77f"
      },
      "execution_count": 14,
      "outputs": [
        {
          "output_type": "stream",
          "name": "stdout",
          "text": [
            "5.000000000016778\n"
          ]
        }
      ]
    },
    {
      "cell_type": "markdown",
      "source": [
        "29.Write a Python program to check if a given string is a valid palindrome ignoring non-alphanumeric characters."
      ],
      "metadata": {
        "id": "6UHeaJJcmh-e"
      }
    },
    {
      "cell_type": "code",
      "source": [
        "import re\n",
        "\n",
        "def is_valid_palindrome(string):\n",
        "    # Remove non-alphanumeric characters and convert to lowercase\n",
        "    alphanumeric_string = re.sub(r'[^a-zA-Z0-9]', '', string).lower()\n",
        "    reversed_string = alphanumeric_string[::-1]\n",
        "    return alphanumeric_string == reversed_string\n",
        "\n",
        "# Example usage:\n",
        "input_string = \"A man, a plan, a canal: Panama\"\n",
        "result = is_valid_palindrome(input_string)\n",
        "print(result)\n"
      ],
      "metadata": {
        "colab": {
          "base_uri": "https://localhost:8080/"
        },
        "id": "HtVydYvXfbjA",
        "outputId": "bae15340-74b1-4b87-9d30-384dbcd8d22b"
      },
      "execution_count": 15,
      "outputs": [
        {
          "output_type": "stream",
          "name": "stdout",
          "text": [
            "True\n"
          ]
        }
      ]
    },
    {
      "cell_type": "markdown",
      "source": [
        "30.Implement a function to find the minimum element in a rotated sorted list."
      ],
      "metadata": {
        "id": "g8UvFyoWmspp"
      }
    },
    {
      "cell_type": "code",
      "source": [
        "def find_minimum(nums):\n",
        "    start = 0\n",
        "    end = len(nums) - 1\n",
        "\n",
        "    while start < end:\n",
        "        mid = start + (end - start) // 2\n",
        "\n",
        "        if nums[mid] > nums[end]:\n",
        "            # Minimum element is in the right half\n",
        "            start = mid + 1\n",
        "        else:\n",
        "            # Minimum element is in the left half or at mid\n",
        "            end = mid\n",
        "\n",
        "    return nums[start]\n",
        "\n",
        "# Example usage:\n",
        "rotated_list = [4, 5, 6, 7, 0, 1, 2]\n",
        "minimum = find_minimum(rotated_list)\n",
        "print(minimum)\n"
      ],
      "metadata": {
        "colab": {
          "base_uri": "https://localhost:8080/"
        },
        "id": "PbVOl3uvmy4h",
        "outputId": "2708a5f0-e328-4bcc-fb07-5e4096a68b09"
      },
      "execution_count": 17,
      "outputs": [
        {
          "output_type": "stream",
          "name": "stdout",
          "text": [
            "0\n"
          ]
        }
      ]
    },
    {
      "cell_type": "markdown",
      "source": [
        "31.Write a program to find the sum of all even numbers in a list."
      ],
      "metadata": {
        "id": "RznJvfa2mxZV"
      }
    },
    {
      "cell_type": "code",
      "source": [
        "def sum_of_even_numbers(numbers):\n",
        "    even_sum = 0\n",
        "    for num in numbers:\n",
        "        if num % 2 == 0:\n",
        "            even_sum += num\n",
        "    return even_sum\n",
        "\n",
        "# Example usage:\n",
        "my_list = [1, 2, 3, 4, 5, 6]\n",
        "result = sum_of_even_numbers(my_list)\n",
        "print(result)\n"
      ],
      "metadata": {
        "colab": {
          "base_uri": "https://localhost:8080/"
        },
        "id": "NLpVwa3RmxF6",
        "outputId": "640cede3-b9af-41d7-fa84-ede352b3db4d"
      },
      "execution_count": 16,
      "outputs": [
        {
          "output_type": "stream",
          "name": "stdout",
          "text": [
            "12\n"
          ]
        }
      ]
    },
    {
      "cell_type": "markdown",
      "source": [
        "32. Implement a function to calculate the power of a number using recursion."
      ],
      "metadata": {
        "id": "II0xnRsGm2Ns"
      }
    },
    {
      "cell_type": "code",
      "source": [
        "def power(base, exponent):\n",
        "    if exponent == 0:\n",
        "        return 1\n",
        "    elif exponent > 0:\n",
        "        return base * power(base, exponent - 1)\n",
        "    else:\n",
        "        return 1 / (base * power(base, -exponent - 1))\n",
        "\n",
        "# Example usage:\n",
        "base = 2\n",
        "exponent = 3\n",
        "result = power(base, exponent)\n",
        "print(result)\n"
      ],
      "metadata": {
        "colab": {
          "base_uri": "https://localhost:8080/"
        },
        "id": "M308GcQ_m3b0",
        "outputId": "5eb2bcc3-59d0-4499-a70f-27844a1bd93d"
      },
      "execution_count": 18,
      "outputs": [
        {
          "output_type": "stream",
          "name": "stdout",
          "text": [
            "8\n"
          ]
        }
      ]
    },
    {
      "cell_type": "markdown",
      "source": [
        "33.Write a Python program to reverse the order of words in a sentence while preserving the word order."
      ],
      "metadata": {
        "id": "3fpmkE8qm2KG"
      }
    },
    {
      "cell_type": "code",
      "source": [
        "def reverse_words(sentence):\n",
        "    words = sentence.split()\n",
        "    reversed_words = \" \".join(reversed(words))\n",
        "    return reversed_words\n",
        "\n",
        "# Example usage:\n",
        "input_sentence = \"Hello, world! This is a sentence.\"\n",
        "reversed_sentence = reverse_words(input_sentence)\n",
        "print(reversed_sentence)\n"
      ],
      "metadata": {
        "colab": {
          "base_uri": "https://localhost:8080/"
        },
        "id": "5AGY9LDLnb5x",
        "outputId": "68993317-2180-4af4-b42d-828ee77922b2"
      },
      "execution_count": 19,
      "outputs": [
        {
          "output_type": "stream",
          "name": "stdout",
          "text": [
            "sentence. a is This world! Hello,\n"
          ]
        }
      ]
    },
    {
      "cell_type": "markdown",
      "source": [
        "34.Implement a function to find the missing number in a given list of consecutive numbers."
      ],
      "metadata": {
        "id": "nJnRC91HnPeZ"
      }
    },
    {
      "cell_type": "code",
      "source": [
        "def find_missing_number(numbers):\n",
        "    n = len(numbers) + 1  # Total numbers including the missing one\n",
        "    expected_sum = n * (n + 1) // 2  # Sum of all numbers from 1 to n\n",
        "\n",
        "    actual_sum = sum(numbers)  # Sum of the given numbers\n",
        "    missing_number = expected_sum - actual_sum\n",
        "\n",
        "    return missing_number\n",
        "\n",
        "# Example usage:\n",
        "my_list = [1, 2, 4, 5, 6]\n",
        "missing_number = find_missing_number(my_list)\n",
        "print(missing_number)\n"
      ],
      "metadata": {
        "colab": {
          "base_uri": "https://localhost:8080/"
        },
        "id": "Ok131lLFm1P6",
        "outputId": "e796d036-48d1-41f8-8bc7-b5fc19bc4ef9"
      },
      "execution_count": 20,
      "outputs": [
        {
          "output_type": "stream",
          "name": "stdout",
          "text": [
            "3\n"
          ]
        }
      ]
    },
    {
      "cell_type": "code",
      "source": [],
      "metadata": {
        "id": "ADIZJKAfnegv"
      },
      "execution_count": null,
      "outputs": []
    },
    {
      "cell_type": "markdown",
      "source": [
        "35.Write a program to find the sum of digits of a given number."
      ],
      "metadata": {
        "id": "kC48aI76nePt"
      }
    },
    {
      "cell_type": "code",
      "source": [
        "def sum_of_digits(number):\n",
        "    total_sum = 0\n",
        "\n",
        "    while number > 0:\n",
        "        digit = number % 10  # Get the rightmost digit\n",
        "        total_sum += digit  # Add the digit to the total sum\n",
        "        number //= 10  # Remove the rightmost digit\n",
        "\n",
        "    return total_sum\n",
        "\n",
        "# Example usage:\n",
        "num = 12345\n",
        "result = sum_of_digits(num)\n",
        "print(result)\n"
      ],
      "metadata": {
        "colab": {
          "base_uri": "https://localhost:8080/"
        },
        "id": "xgkg5Pitnd_6",
        "outputId": "58c1cde3-6b06-476c-8518-0a40d7027443"
      },
      "execution_count": 21,
      "outputs": [
        {
          "output_type": "stream",
          "name": "stdout",
          "text": [
            "15\n"
          ]
        }
      ]
    },
    {
      "cell_type": "markdown",
      "source": [
        "36.Implement a function to calculate the product of all elements in a list.\n"
      ],
      "metadata": {
        "id": "PoyrUb4dndvH"
      }
    },
    {
      "cell_type": "code",
      "source": [
        "def calculate_product(numbers):\n",
        "    product = 1\n",
        "    for num in numbers:\n",
        "        product *= num\n",
        "    return product\n",
        "\n",
        "# Example usage:\n",
        "my_list = [2, 3, 4, 5]\n",
        "result = calculate_product(my_list)\n",
        "print(result)\n"
      ],
      "metadata": {
        "colab": {
          "base_uri": "https://localhost:8080/"
        },
        "id": "nxT4a2qXnda7",
        "outputId": "e52685fa-fe99-45c8-cf02-924c95033a4f"
      },
      "execution_count": 22,
      "outputs": [
        {
          "output_type": "stream",
          "name": "stdout",
          "text": [
            "120\n"
          ]
        }
      ]
    },
    {
      "cell_type": "markdown",
      "source": [
        "37.Write a Python program to reverse the order of words in a sentence while preserving the word order.\n"
      ],
      "metadata": {
        "id": "oYUEyx6hndGh"
      }
    },
    {
      "cell_type": "code",
      "source": [
        "def reverse_sentence(sentence):\n",
        "    words = sentence.split()  # Split the sentence into words\n",
        "    reversed_words = words[::-1]  # Reverse the order of the words\n",
        "    reversed_sentence = \" \".join(reversed_words)  # Join the reversed words back into a sentence\n",
        "    return reversed_sentence\n",
        "\n",
        "# Example usage:\n",
        "input_sentence = \"Hello, world! This is a sentence.\"\n",
        "reversed_sentence = reverse_sentence(input_sentence)\n",
        "print(reversed_sentence)\n"
      ],
      "metadata": {
        "colab": {
          "base_uri": "https://localhost:8080/"
        },
        "id": "3HDWG5dCn1K0",
        "outputId": "9c9d269b-e36a-4e11-c5ed-83ffe122f1d9"
      },
      "execution_count": 23,
      "outputs": [
        {
          "output_type": "stream",
          "name": "stdout",
          "text": [
            "sentence. a is This world! Hello,\n"
          ]
        }
      ]
    },
    {
      "cell_type": "markdown",
      "source": [
        "38. Implement a function to find the missing number in a given list of consecutive numbers.\n"
      ],
      "metadata": {
        "id": "gtg8RvAQn3rS"
      }
    },
    {
      "cell_type": "code",
      "source": [],
      "metadata": {
        "id": "lB9jpdDQn3WI"
      },
      "execution_count": null,
      "outputs": []
    },
    {
      "cell_type": "markdown",
      "source": [
        "39. Write a program to check a number if it is a perfect square."
      ],
      "metadata": {
        "id": "rtZ9WH0on3Cr"
      }
    },
    {
      "cell_type": "code",
      "source": [
        "def is_perfect_square(number):\n",
        "    if number < 0:\n",
        "        return False\n",
        "\n",
        "    # Using the property that the square root of a perfect square is an integer\n",
        "    sqrt = int(number ** 0.5)\n",
        "    return sqrt * sqrt == number\n",
        "\n",
        "# Example usage:\n",
        "num = 25\n",
        "result = is_perfect_square(num)\n",
        "print(result)\n"
      ],
      "metadata": {
        "colab": {
          "base_uri": "https://localhost:8080/"
        },
        "id": "cJ5lboWGn2m_",
        "outputId": "edeb5623-86b4-448c-ccc0-792a21edc17f"
      },
      "execution_count": 24,
      "outputs": [
        {
          "output_type": "stream",
          "name": "stdout",
          "text": [
            "True\n"
          ]
        }
      ]
    },
    {
      "cell_type": "markdown",
      "source": [
        "40. Implement a function to check if a given string is a valid palindrome considering case sensitivity.\n"
      ],
      "metadata": {
        "id": "3eCNIWLqn155"
      }
    },
    {
      "cell_type": "code",
      "source": [
        "def is_valid_palindrome(string):\n",
        "    # Remove non-alphanumeric characters and convert to lowercase\n",
        "    alphanumeric_string = ''.join(ch.lower() for ch in string if ch.isalnum())\n",
        "    reversed_string = alphanumeric_string[::-1]\n",
        "    return alphanumeric_string == reversed_string\n",
        "\n",
        "# Example usage:\n",
        "input_string = \"A man, a plan, a canal: Panama\"\n",
        "result = is_valid_palindrome(input_string)\n",
        "print(result)\n"
      ],
      "metadata": {
        "colab": {
          "base_uri": "https://localhost:8080/"
        },
        "id": "qzET9KFdojNG",
        "outputId": "e258d57d-b17d-40e3-942d-0285f0970244"
      },
      "execution_count": 25,
      "outputs": [
        {
          "output_type": "stream",
          "name": "stdout",
          "text": [
            "True\n"
          ]
        }
      ]
    },
    {
      "cell_type": "markdown",
      "source": [
        "41. Write a Python program to find the smallest missing positive integer in a list.\n"
      ],
      "metadata": {
        "id": "KASzi-XDopQ1"
      }
    },
    {
      "cell_type": "code",
      "source": [
        "def find_smallest_missing_positive(nums):\n",
        "    n = len(nums)\n",
        "\n",
        "    # Move all non-positive numbers to the end of the list\n",
        "    next_positive = 1  # The next positive integer to be found\n",
        "    i = 0\n",
        "    while i < n:\n",
        "        if 1 <= nums[i] <= n and nums[i] != nums[nums[i] - 1]:\n",
        "            # Swap the current number with its correct position\n",
        "            nums[nums[i] - 1], nums[i] = nums[i], nums[nums[i] - 1]\n",
        "        else:\n",
        "            i += 1\n",
        "\n",
        "    # Find the first position where the number doesn't match its index\n",
        "    for i in range(n):\n",
        "        if nums[i] != i + 1:\n",
        "            return i + 1\n",
        "\n",
        "    # If all positions match, the smallest missing positive integer is n + 1\n",
        "    return n + 1\n",
        "\n",
        "# Example usage:\n",
        "my_list = [3, 4, -1, 1]\n",
        "smallest_missing = find_smallest_missing_positive(my_list)\n",
        "print(smallest_missing)\n"
      ],
      "metadata": {
        "colab": {
          "base_uri": "https://localhost:8080/"
        },
        "id": "GVyJshIowb-b",
        "outputId": "865f7494-1acf-4dd6-c740-4c83c353fd03"
      },
      "execution_count": 26,
      "outputs": [
        {
          "output_type": "stream",
          "name": "stdout",
          "text": [
            "2\n"
          ]
        }
      ]
    },
    {
      "cell_type": "markdown",
      "source": [
        "42. Implement a function to find the longest palindrome substring in a given string."
      ],
      "metadata": {
        "id": "Wmc6WxA0owQA"
      }
    },
    {
      "cell_type": "code",
      "source": [
        "def longest_palindrome_substring(string):\n",
        "    if len(string) < 2:\n",
        "        return string\n",
        "\n",
        "    start = 0\n",
        "    max_length = 1\n",
        "\n",
        "    for i in range(len(string)):\n",
        "        # Check odd-length palindromes\n",
        "        left = i - 1\n",
        "        right = i + 1\n",
        "        while left >= 0 and right < len(string) and string[left] == string[right]:\n",
        "            if right - left + 1 > max_length:\n",
        "                max_length = right - left + 1\n",
        "                start = left\n",
        "            left -= 1\n",
        "            right += 1\n",
        "\n",
        "        # Check even-length palindromes\n",
        "        left = i\n",
        "        right = i + 1\n",
        "        while left >= 0 and right < len(string) and string[left] == string[right]:\n",
        "            if right - left + 1 > max_length:\n",
        "                max_length = right - left + 1\n",
        "                start = left\n",
        "            left -= 1\n",
        "            right += 1\n",
        "\n",
        "    return string[start:start + max_length]\n",
        "\n",
        "# Example usage:\n",
        "input_string = \"babad\"\n",
        "result = longest_palindrome_substring(input_string)\n",
        "print(result)\n"
      ],
      "metadata": {
        "colab": {
          "base_uri": "https://localhost:8080/"
        },
        "id": "37gsUvMQowCY",
        "outputId": "1ab7297c-37cd-471e-d51b-a693d5f26c90"
      },
      "execution_count": 27,
      "outputs": [
        {
          "output_type": "stream",
          "name": "stdout",
          "text": [
            "bab\n"
          ]
        }
      ]
    },
    {
      "cell_type": "markdown",
      "source": [
        "43. Write a program to find the number of occurrences of a given element in a list.\n"
      ],
      "metadata": {
        "id": "9rR06vc5ov08"
      }
    },
    {
      "cell_type": "code",
      "source": [],
      "metadata": {
        "id": "lnhhjANfovoT"
      },
      "execution_count": null,
      "outputs": []
    },
    {
      "cell_type": "markdown",
      "source": [
        "44. Implement a function to check if a given number is a perfect number."
      ],
      "metadata": {
        "id": "c1wcoEuDova2"
      }
    },
    {
      "cell_type": "code",
      "source": [
        "##repeat"
      ],
      "metadata": {
        "id": "GuPay3Z5ovND"
      },
      "execution_count": null,
      "outputs": []
    },
    {
      "cell_type": "markdown",
      "source": [
        "45. Write a Python program to remove all duplicates from a string"
      ],
      "metadata": {
        "id": "stAe-OSaou8P"
      }
    },
    {
      "cell_type": "code",
      "source": [
        "def remove_duplicates(string):\n",
        "    unique_chars = \"\"\n",
        "    for char in string:\n",
        "        if char not in unique_chars:\n",
        "            unique_chars += char\n",
        "    return unique_chars\n",
        "\n",
        "# Example usage:\n",
        "input_string = \"Hello, World!\"\n",
        "result = remove_duplicates(input_string)\n",
        "print(result)\n"
      ],
      "metadata": {
        "colab": {
          "base_uri": "https://localhost:8080/"
        },
        "id": "fn-X1WCNoupd",
        "outputId": "183cc347-b1a3-4786-a074-e1441d327782"
      },
      "execution_count": 28,
      "outputs": [
        {
          "output_type": "stream",
          "name": "stdout",
          "text": [
            "Helo, Wrd!\n"
          ]
        }
      ]
    },
    {
      "cell_type": "markdown",
      "source": [
        "46. Implement a function to find the first missing positive\n",
        "\n"
      ],
      "metadata": {
        "id": "6zqInNZzpARy"
      }
    },
    {
      "cell_type": "code",
      "source": [
        "def find_first_missing_positive(nums):\n",
        "    n = len(nums)\n",
        "\n",
        "    # Move all non-positive numbers to the end of the list\n",
        "    next_positive = 1  # The next positive integer to be found\n",
        "    i = 0\n",
        "    while i < n:\n",
        "        if 1 <= nums[i] <= n and nums[i] != nums[nums[i] - 1]:\n",
        "            # Swap the current number with its correct position\n",
        "            nums[nums[i] - 1], nums[i] = nums[i], nums[nums[i] - 1]\n",
        "        else:\n",
        "            i += 1\n",
        "\n",
        "    # Find the first position where the number doesn't match its index\n",
        "    for i in range(n):\n",
        "        if nums[i] != i + 1:\n",
        "            return i + 1\n",
        "\n",
        "    # If all positions match, the first missing positive is n + 1\n",
        "    return n + 1\n",
        "\n",
        "# Example usage:\n",
        "my_list = [3, 4, -1, 1]\n",
        "first_missing = find_first_missing_positive(my_list)\n",
        "print(first_missing)\n"
      ],
      "metadata": {
        "colab": {
          "base_uri": "https://localhost:8080/"
        },
        "id": "8vfscqxcxIQt",
        "outputId": "4ed2d1fb-18be-4321-eb59-d80acb958b18"
      },
      "execution_count": 29,
      "outputs": [
        {
          "output_type": "stream",
          "name": "stdout",
          "text": [
            "2\n"
          ]
        }
      ]
    },
    {
      "cell_type": "code",
      "source": [],
      "metadata": {
        "id": "1l1JwR39xKhy"
      },
      "execution_count": null,
      "outputs": []
    }
  ]
}